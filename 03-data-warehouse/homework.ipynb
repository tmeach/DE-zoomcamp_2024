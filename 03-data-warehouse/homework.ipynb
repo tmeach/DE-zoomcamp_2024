{
 "cells": [
  {
   "cell_type": "markdown",
   "id": "6521287f",
   "metadata": {},
   "source": [
    "For this homework we will be using the 2022 Green Taxi Trip Record Parquet Files from the New York City Taxi Data found here:\n",
    "https://www.nyc.gov/site/tlc/about/tlc-trip-record-data.page\n",
    "If you are using orchestration such as Mage, Airflow or Prefect do not load the data into Big Query using the orchestrator.\n",
    "Stop with loading the files into a bucket.\n",
    "\n",
    "NOTE: You will need to use the PARQUET option files when creating an External Table\n",
    "\n",
    "SETUP:\n",
    "Create an external table using the Green Taxi Trip Records Data for 2022.\n",
    "Create a table in BQ using the Green Taxi Trip Records for 2022 (do not partition or cluster this table)."
   ]
  },
  {
   "cell_type": "markdown",
   "id": "d0c58a64",
   "metadata": {},
   "source": [
    "### PS: I was working with Amazon Redshift instead of BigQuery"
   ]
  },
  {
   "cell_type": "markdown",
   "id": "d436e0d5",
   "metadata": {},
   "source": [
    "## Question 1:\n",
    "\n",
    "What is count of records for the 2022 Green Taxi Data??\n",
    "\n",
    "- 65,623,481\n",
    "- 840,402\n",
    "- 1,936,423\n",
    "- 253,647"
   ]
  },
  {
   "attachments": {
    "image-2.png": {
     "image/png": "[encoded data removed]"
    }
   },
   "cell_type": "markdown",
   "id": "a42d6415",
   "metadata": {},
   "source": [
    "![image-2.png](attachment:image-2.png)"
   ]
  },
  {
   "cell_type": "markdown",
   "id": "caf84480",
   "metadata": {},
   "source": [
    "### Answer:\n",
    "- 840,402"
   ]
  },
  {
   "cell_type": "markdown",
   "id": "8e214650",
   "metadata": {},
   "source": [
    "## Question 2:\n",
    "\n",
    "Write a query to count the distinct number of PULocationIDs for the entire dataset on both the tables.\n",
    "What is the estimated amount of data that will be read when this query is executed on the External Table and the Table?\n",
    "\n",
    "- 0 MB for the External Table and 6.41MB for the Materialized Table\n",
    "- 18.82 MB for the External Table and 47.60 MB for the Materialized Table\n",
    "- 0 MB for the External Table and 0MB for the Materialized Table\n",
    "- 2.14 MB for the External Table and 0MB for the Materialized Table"
   ]
  },
  {
   "cell_type": "markdown",
   "id": "8a9f1020",
   "metadata": {},
   "source": [
    "### Answer:\n",
    "- 0 MB for the External Table and 6.41MB for the Materialized Table"
   ]
  },
  {
   "cell_type": "markdown",
   "id": "caeedef3",
   "metadata": {},
   "source": [
    "## Question 3:\n",
    "\n",
    "How many records have a fare_amount of 0?\n",
    "\n",
    "- 12,488\n",
    "- 128,219\n",
    "- 112\n",
    "- 1,622"
   ]
  },
  {
   "attachments": {
    "image.png": {
     "image/png": "[encoded data removed]"
    }
   },
   "cell_type": "markdown",
   "id": "09578967",
   "metadata": {},
   "source": [
    "![image.png](attachment:image.png)"
   ]
  },
  {
   "cell_type": "markdown",
   "id": "fc54f171",
   "metadata": {},
   "source": [
    "### Answer:\n",
    "- 1,622"
   ]
  },
  {
   "cell_type": "markdown",
   "id": "6f15f392",
   "metadata": {},
   "source": [
    "## Question 4:\n",
    "\n",
    "What is the best strategy to make an optimized table in Big Query if your query will always order the results by PUlocationID and filter based on lpep_pickup_datetime? (Create a new table with this strategy)\n",
    "\n",
    "- Cluster on lpep_pickup_datetime Partition by PUlocationID\n",
    "- Partition by lpep_pickup_datetime Cluster on PUlocationID\n",
    "- Partition by lpep_pickup_datetime and Partition by PUlocationID\n",
    "- Cluster on by lpep_pickup_datetime and Cluster on PUlocationID"
   ]
  },
  {
   "cell_type": "markdown",
   "id": "ee7f17d9",
   "metadata": {},
   "source": [
    "### Answer:\n",
    "- Cluster on lpep_pickup_datetime Partition by PUlocationID"
   ]
  },
  {
   "cell_type": "markdown",
   "id": "223ee91e",
   "metadata": {},
   "source": [
    "## Question 5:\n",
    "\n",
    "Write a query to retrieve the distinct PULocationID between lpep_pickup_datetime 06/01/2022 and 06/30/2022 (inclusive)\n",
    "\n",
    "Use the materialized table you created earlier in your from clause and note the estimated bytes. Now change the table in the from clause to the partitioned table you created for question 4 and note the estimated bytes processed. What are these values?\n",
    "\n",
    "Choose the answer which most closely matches.\n",
    "\n",
    "- 22.82 MB for non-partitioned table and 647.87 MB for the partitioned table\n",
    "- 12.82 MB for non-partitioned table and 1.12 MB for the partitioned table\n",
    "- 5.63 MB for non-partitioned table and 0 MB for the partitioned table\n",
    "- 10.31 MB for non-partitioned table and 10.31 MB for the partitioned table"
   ]
  },
  {
   "cell_type": "markdown",
   "id": "6dc0ed37",
   "metadata": {},
   "source": [
    "### Answer:\n",
    "- 12.82 MB for non-partitioned table and 1.12 MB for the partitioned table"
   ]
  },
  {
   "cell_type": "markdown",
   "id": "2a07d1e0",
   "metadata": {},
   "source": [
    "## Question 6:\n",
    "\n",
    "Where is the data stored in the External Table you created?\n",
    "\n",
    "- Big Query\n",
    "- GCP Bucket\n",
    "- Big Table\n",
    "- Container Registry"
   ]
  },
  {
   "cell_type": "markdown",
   "id": "471c904e",
   "metadata": {},
   "source": [
    "### Answer:\n",
    "- GCP Bucket"
   ]
  },
  {
   "cell_type": "markdown",
   "id": "747e5020",
   "metadata": {},
   "source": [
    "## Question 7:\n",
    "\n",
    "It is best practice in Big Query to always cluster your data:\n",
    "\n",
    "- True\n",
    "- False"
   ]
  },
  {
   "cell_type": "markdown",
   "id": "80e670a8",
   "metadata": {},
   "source": [
    "### Answer:\n",
    "- False"
   ]
  }
 ],
 "metadata": {
  "kernelspec": {
   "display_name": "Python 3 (ipykernel)",
   "language": "python",
   "name": "python3"
  },
  "language_info": {
   "codemirror_mode": {
    "name": "ipython",
    "version": 3
   },
   "file_extension": ".py",
   "mimetype": "text/x-python",
   "name": "python",
   "nbconvert_exporter": "python",
   "pygments_lexer": "ipython3",
   "version": "3.8.10"
  }
 },
 "nbformat": 4,
 "nbformat_minor": 5
}
