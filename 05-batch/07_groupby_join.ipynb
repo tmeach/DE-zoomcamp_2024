{
 "cells": [
  {
   "cell_type": "code",
   "execution_count": 1,
   "id": "13dc2126",
   "metadata": {},
   "outputs": [],
   "source": [
    "import pyspark\n",
    "from pyspark.sql import SparkSession"
   ]
  },
  {
   "cell_type": "code",
   "execution_count": 6,
   "id": "44276127",
   "metadata": {},
   "outputs": [
    {
     "name": "stdout",
     "output_type": "stream",
     "text": [
      "24/03/03 21:17:05 WARN Utils: Your hostname, DESKTOP-87NE6FD resolves to a loopback address: 127.0.1.1; using 172.28.203.119 instead (on interface eth0)\n",
      "24/03/03 21:17:05 WARN Utils: Set SPARK_LOCAL_IP if you need to bind to another address\n"
     ]
    },
    {
     "name": "stderr",
     "output_type": "stream",
     "text": [
      "Setting default log level to \"WARN\".\n",
      "To adjust logging level use sc.setLogLevel(newLevel). For SparkR, use setLogLevel(newLevel).\n"
     ]
    },
    {
     "name": "stdout",
     "output_type": "stream",
     "text": [
      "24/03/03 21:17:08 WARN NativeCodeLoader: Unable to load native-hadoop library for your platform... using builtin-java classes where applicable\n"
     ]
    }
   ],
   "source": [
    "spark = SparkSession.builder \\\n",
    "    .master('local[*]') \\\n",
    "    .appName('test') \\\n",
    "    .getOrCreate()"
   ]
  },
  {
   "cell_type": "markdown",
   "id": "05f1a81c",
   "metadata": {},
   "source": [
    "load green taxi data, made a report with SQL and save report to paqrquet"
   ]
  },
  {
   "cell_type": "code",
   "execution_count": 67,
   "id": "3bcf5f05",
   "metadata": {},
   "outputs": [],
   "source": [
    "df_green = spark.read.parquet('data/pq/green/*/*')"
   ]
  },
  {
   "cell_type": "code",
   "execution_count": 9,
   "id": "3ebf6432",
   "metadata": {},
   "outputs": [
    {
     "data": {
      "text/plain": [
       "['VendorID',\n",
       " 'lpep_pickup_datetime',\n",
       " 'lpep_dropoff_datetime',\n",
       " 'store_and_fwd_flag',\n",
       " 'RatecodeID',\n",
       " 'PULocationID',\n",
       " 'DOLocationID',\n",
       " 'passenger_count',\n",
       " 'trip_distance',\n",
       " 'fare_amount',\n",
       " 'extra',\n",
       " 'mta_tax',\n",
       " 'tip_amount',\n",
       " 'tolls_amount',\n",
       " 'ehail_fee',\n",
       " 'improvement_surcharge',\n",
       " 'total_amount',\n",
       " 'payment_type',\n",
       " 'trip_type',\n",
       " 'congestion_surcharge']"
      ]
     },
     "execution_count": 9,
     "metadata": {},
     "output_type": "execute_result"
    }
   ],
   "source": [
    "df_green.columns"
   ]
  },
  {
   "cell_type": "code",
   "execution_count": 68,
   "id": "f99bd0a4",
   "metadata": {},
   "outputs": [],
   "source": [
    "df_green.registerTempTable('green')"
   ]
  },
  {
   "cell_type": "code",
   "execution_count": 69,
   "id": "4d15776b",
   "metadata": {},
   "outputs": [],
   "source": [
    "df_green_revenue = spark.sql(\"\"\"\n",
    "SELECT\n",
    "    date_trunc('hour', lpep_pickup_datetime) AS hour, \n",
    "    PULocationID AS zone,\n",
    "    SUM(total_amount) AS amount,\n",
    "    COUNT(1) AS number_of_records\n",
    "FROM\n",
    "    green\n",
    "WHERE\n",
    "    lpep_pickup_datetime >= '2020-01-01 00:00:00'\n",
    "GROUP BY\n",
    "    1, 2\n",
    "\"\"\")"
   ]
  },
  {
   "cell_type": "code",
   "execution_count": 70,
   "id": "1e2877f4",
   "metadata": {},
   "outputs": [
    {
     "name": "stderr",
     "output_type": "stream",
     "text": [
      "\r",
      "[Stage 53:===========================================>              (6 + 2) / 8]\r",
      "\r",
      "[Stage 53:==================================================>       (7 + 1) / 8]\r"
     ]
    },
    {
     "name": "stdout",
     "output_type": "stream",
     "text": [
      "+-------------------+----+------------------+-----------------+\n",
      "|               hour|zone|            amount|number_of_records|\n",
      "+-------------------+----+------------------+-----------------+\n",
      "|2020-01-02 14:00:00|  26|            327.48|               11|\n",
      "|2020-01-06 15:00:00| 241|             184.7|                3|\n",
      "|2020-01-22 13:00:00|  74|            666.24|               44|\n",
      "|2020-01-14 23:00:00| 223|             48.31|                4|\n",
      "|2020-01-09 23:00:00| 260|202.32999999999998|               16|\n",
      "|2020-01-30 09:00:00|  75|1010.3499999999992|               67|\n",
      "|2020-01-11 21:00:00|  41| 700.5999999999996|               50|\n",
      "|2020-01-07 18:00:00|  45|            112.39|                4|\n",
      "|2020-01-02 09:00:00|  42| 555.7500000000002|               33|\n",
      "|2020-01-04 23:00:00|  25| 376.3999999999999|               26|\n",
      "|2020-01-25 11:00:00| 259|            161.21|                3|\n",
      "|2020-01-16 20:00:00|  52|             108.6|                7|\n",
      "|2020-01-16 06:00:00|  74| 600.8000000000002|               37|\n",
      "|2020-01-17 07:00:00|  41|481.64000000000016|               39|\n",
      "|2020-01-17 04:00:00|  82|108.74999999999999|               10|\n",
      "|2020-01-22 16:00:00| 244| 926.1699999999996|               32|\n",
      "|2020-01-02 18:00:00|  66|            210.76|               11|\n",
      "|2020-01-30 22:00:00|  36|              85.1|                3|\n",
      "|2020-01-17 19:00:00|  17|133.57999999999998|               13|\n",
      "|2020-01-17 21:00:00|  33| 565.2900000000001|               26|\n",
      "+-------------------+----+------------------+-----------------+\n",
      "only showing top 20 rows\n",
      "\n"
     ]
    },
    {
     "name": "stderr",
     "output_type": "stream",
     "text": [
      "\r",
      "                                                                                \r"
     ]
    }
   ],
   "source": [
    "df_green_revenue.show()"
   ]
  },
  {
   "cell_type": "markdown",
   "id": "c161224e",
   "metadata": {},
   "source": [
    "save the result to parquet"
   ]
  },
  {
   "cell_type": "code",
   "execution_count": 31,
   "id": "eea304e9",
   "metadata": {},
   "outputs": [
    {
     "name": "stderr",
     "output_type": "stream",
     "text": [
      "[Stage 24:>                                                         (0 + 8) / 8]\r"
     ]
    },
    {
     "name": "stdout",
     "output_type": "stream",
     "text": [
      "24/03/03 21:52:32 WARN MemoryManager: Total allocation exceeds 95.00% (1,020,054,720 bytes) of heap memory\n",
      "Scaling row group sizes to 95.00% for 8 writers\n"
     ]
    },
    {
     "name": "stderr",
     "output_type": "stream",
     "text": [
      "                                                                                \r"
     ]
    }
   ],
   "source": [
    "df_green_revenue \\\n",
    "    .repartition(20) \\\n",
    "    .write.parquet('data/report/revenue/green', mode='overwrite')"
   ]
  },
  {
   "cell_type": "markdown",
   "id": "cbc5cfc7",
   "metadata": {},
   "source": [
    "load yellow taxi data, made a report with SQL and save report to paqrquet"
   ]
  },
  {
   "cell_type": "code",
   "execution_count": 71,
   "id": "61df2d7b",
   "metadata": {},
   "outputs": [],
   "source": [
    "df_yellow = spark.read.parquet('data/pq/yellow/*/*')"
   ]
  },
  {
   "cell_type": "code",
   "execution_count": 72,
   "id": "4ea70a06",
   "metadata": {},
   "outputs": [
    {
     "data": {
      "text/plain": [
       "['VendorID',\n",
       " 'tpep_pickup_datetime',\n",
       " 'tpep_dropoff_datetime',\n",
       " 'passenger_count',\n",
       " 'trip_distance',\n",
       " 'RatecodeID',\n",
       " 'store_and_fwd_flag',\n",
       " 'PULocationID',\n",
       " 'DOLocationID',\n",
       " 'payment_type',\n",
       " 'fare_amount',\n",
       " 'extra',\n",
       " 'mta_tax',\n",
       " 'tip_amount',\n",
       " 'tolls_amount',\n",
       " 'improvement_surcharge',\n",
       " 'total_amount',\n",
       " 'congestion_surcharge']"
      ]
     },
     "execution_count": 72,
     "metadata": {},
     "output_type": "execute_result"
    }
   ],
   "source": [
    "df_yellow.columns"
   ]
  },
  {
   "cell_type": "code",
   "execution_count": 73,
   "id": "ecb330bb",
   "metadata": {},
   "outputs": [],
   "source": [
    "df_yellow.registerTempTable('yellow')"
   ]
  },
  {
   "cell_type": "code",
   "execution_count": 74,
   "id": "74c2b74c",
   "metadata": {},
   "outputs": [],
   "source": [
    "df_yellow_revenue = spark.sql(\"\"\"\n",
    "SELECT\n",
    "    date_trunc('hour', tpep_pickup_datetime) AS hour, \n",
    "    PULocationID AS zone,\n",
    "    SUM(total_amount) AS amount,\n",
    "    COUNT(1) AS number_of_records\n",
    "FROM\n",
    "    yellow\n",
    "WHERE\n",
    "    tpep_pickup_datetime >= '2020-01-01 00:00:00'\n",
    "GROUP BY\n",
    "    1, 2\n",
    "\"\"\")"
   ]
  },
  {
   "cell_type": "code",
   "execution_count": 75,
   "id": "03eac77e",
   "metadata": {},
   "outputs": [
    {
     "name": "stderr",
     "output_type": "stream",
     "text": [
      "[Stage 57:===================================================>    (11 + 1) / 12]\r"
     ]
    },
    {
     "name": "stdout",
     "output_type": "stream",
     "text": [
      "+-------------------+----+------------------+-----------------+\n",
      "|               hour|zone|            amount|number_of_records|\n",
      "+-------------------+----+------------------+-----------------+\n",
      "|2020-01-16 18:00:00| 232|261.71000000000004|               12|\n",
      "|2020-01-06 05:00:00|  48|2105.5099999999984|              136|\n",
      "|2020-01-03 15:00:00| 163| 5261.330000000002|              348|\n",
      "|2020-01-06 11:00:00|  43|2731.4199999999983|              185|\n",
      "|2020-01-17 07:00:00|  24|           1058.45|               62|\n",
      "|2020-01-12 11:00:00| 163| 4039.869999999997|              244|\n",
      "|2020-01-20 20:00:00| 144|1758.8999999999996|              107|\n",
      "|2020-01-27 18:00:00| 162|11701.700000000033|              698|\n",
      "|2020-01-26 03:00:00| 263|           1156.81|               69|\n",
      "|2020-01-20 18:00:00| 113|2801.8799999999987|              197|\n",
      "|2020-01-24 15:00:00| 186|7813.4200000000155|              446|\n",
      "|2020-01-26 16:00:00| 236| 7387.040000000016|              509|\n",
      "|2020-01-09 18:00:00| 263| 4200.289999999999|              268|\n",
      "|2020-01-26 16:00:00| 239| 6371.280000000007|              407|\n",
      "|2020-01-13 14:00:00|  68| 4097.159999999997|              225|\n",
      "|2020-01-25 09:00:00| 186| 5292.580000000002|              353|\n",
      "|2020-01-02 18:00:00| 236| 6305.760000000005|              427|\n",
      "|2020-01-02 12:00:00| 161| 7460.580000000015|              450|\n",
      "|2020-01-23 22:00:00| 164| 6399.600000000009|              352|\n",
      "|2020-01-26 00:00:00| 230| 6046.940000000003|              360|\n",
      "+-------------------+----+------------------+-----------------+\n",
      "only showing top 20 rows\n",
      "\n"
     ]
    },
    {
     "name": "stderr",
     "output_type": "stream",
     "text": [
      "\r",
      "                                                                                \r"
     ]
    }
   ],
   "source": [
    "df_yellow_revenue.show()"
   ]
  },
  {
   "cell_type": "code",
   "execution_count": 46,
   "id": "79c62f42",
   "metadata": {},
   "outputs": [
    {
     "name": "stderr",
     "output_type": "stream",
     "text": [
      "[Stage 36:>                                                         (0 + 8) / 8]\r"
     ]
    },
    {
     "name": "stdout",
     "output_type": "stream",
     "text": [
      "24/03/03 21:56:25 WARN MemoryManager: Total allocation exceeds 95.00% (1,020,054,720 bytes) of heap memory\n",
      "Scaling row group sizes to 95.00% for 8 writers\n"
     ]
    },
    {
     "name": "stderr",
     "output_type": "stream",
     "text": [
      "                                                                                \r"
     ]
    }
   ],
   "source": [
    "df_yellow_revenue \\\n",
    "    .repartition(20) \\\n",
    "    .write.parquet('data/report/revenue/yellow', mode='overwrite')"
   ]
  },
  {
   "cell_type": "code",
   "execution_count": 79,
   "id": "76dca864",
   "metadata": {},
   "outputs": [],
   "source": [
    "df_green_revenue_tmp = df_green_revenue \\\n",
    "    .withColumnRenamed('amount', 'green_amount') \\\n",
    "    .withColumnRenamed('number_of_records', 'green_number_records')\n",
    "\n",
    "df_yellow_revenue_tmp = df_yellow_revenue \\\n",
    "    .withColumnRenamed('amount', 'yellow_amount') \\\n",
    "    .withColumnRenamed('number_of_records', 'yellow_number_records')"
   ]
  },
  {
   "cell_type": "code",
   "execution_count": 80,
   "id": "abe7bd07",
   "metadata": {},
   "outputs": [],
   "source": [
    "df_join = df_green_revenue_tmp.join(df_yellow_revenue_tmp, on=['hour', 'zone'], how='outer')"
   ]
  },
  {
   "cell_type": "code",
   "execution_count": 81,
   "id": "7d110444",
   "metadata": {},
   "outputs": [
    {
     "data": {
      "text/plain": [
       "DataFrame[hour: timestamp, zone: int, green_amount: double, green_number_records: bigint, yellow_amount: double, yellow_number_records: bigint]"
      ]
     },
     "execution_count": 81,
     "metadata": {},
     "output_type": "execute_result"
    }
   ],
   "source": [
    "df_join"
   ]
  },
  {
   "cell_type": "code",
   "execution_count": 82,
   "id": "878c6a79",
   "metadata": {},
   "outputs": [
    {
     "name": "stderr",
     "output_type": "stream",
     "text": [
      "[Stage 61:===================================================>    (11 + 1) / 12]\r"
     ]
    },
    {
     "name": "stdout",
     "output_type": "stream",
     "text": [
      "+-------------------+----+------------------+--------------------+------------------+---------------------+\n",
      "|               hour|zone|      green_amount|green_number_records|     yellow_amount|yellow_number_records|\n",
      "+-------------------+----+------------------+--------------------+------------------+---------------------+\n",
      "|2020-01-01 00:00:00|  29|              61.3|                   1|              null|                 null|\n",
      "|2020-01-01 00:00:00|  33|317.27000000000004|                  11|            255.56|                    8|\n",
      "|2020-01-01 00:00:00|  62|             15.95|                   1|             61.43|                    1|\n",
      "|2020-01-01 00:00:00|  71|              23.8|                   1|              null|                 null|\n",
      "|2020-01-01 00:00:00|  81|54.870000000000005|                   2|             30.32|                    1|\n",
      "|2020-01-01 00:00:00| 125|              null|                null|           1342.07|                   68|\n",
      "|2020-01-01 00:00:00| 126|              null|                null|             170.6|                    2|\n",
      "|2020-01-01 00:00:00| 127|              null|                null|43.900000000000006|                    3|\n",
      "|2020-01-01 00:00:00| 132|              null|                null| 6786.390000000004|                  139|\n",
      "|2020-01-01 00:00:00| 143|             55.95|                   2|2142.0599999999986|                  128|\n",
      "|2020-01-01 00:00:00| 164|              null|                null| 5448.930000000004|                  292|\n",
      "|2020-01-01 00:00:00| 170|              null|                null| 8266.010000000015|                  463|\n",
      "|2020-01-01 00:00:00| 174|              21.7|                   1|              54.6|                    1|\n",
      "|2020-01-01 00:00:00| 188|            127.57|                   6|            105.72|                    5|\n",
      "|2020-01-01 00:00:00| 197|             72.01|                   3|              null|                 null|\n",
      "|2020-01-01 00:00:00| 216|            181.37|                   6|            100.32|                    3|\n",
      "|2020-01-01 00:00:00| 218|             72.27|                   2|              null|                 null|\n",
      "|2020-01-01 00:00:00| 224|              null|                null| 655.1000000000001|                   31|\n",
      "|2020-01-01 00:00:00| 242|             64.25|                   1|              null|                 null|\n",
      "|2020-01-01 00:00:00| 259|            131.24|                   7|              null|                 null|\n",
      "+-------------------+----+------------------+--------------------+------------------+---------------------+\n",
      "only showing top 20 rows\n",
      "\n"
     ]
    },
    {
     "name": "stderr",
     "output_type": "stream",
     "text": [
      "\r",
      "                                                                                \r"
     ]
    }
   ],
   "source": [
    "df_join.show()"
   ]
  },
  {
   "cell_type": "code",
   "execution_count": 83,
   "id": "ef766514",
   "metadata": {},
   "outputs": [
    {
     "name": "stderr",
     "output_type": "stream",
     "text": [
      "[Stage 69:>                                                         (0 + 8) / 9]\r"
     ]
    },
    {
     "name": "stdout",
     "output_type": "stream",
     "text": [
      "24/03/03 22:40:27 WARN MemoryManager: Total allocation exceeds 95.00% (1,020,054,720 bytes) of heap memory\n",
      "Scaling row group sizes to 95.00% for 8 writers\n"
     ]
    },
    {
     "name": "stderr",
     "output_type": "stream",
     "text": [
      "                                                                                \r"
     ]
    }
   ],
   "source": [
    "df_join.write.parquet('data/report/revenue/total')"
   ]
  },
  {
   "cell_type": "markdown",
   "id": "3059ec7e",
   "metadata": {},
   "source": [
    "now instead of compute step by step we can just loading our data which we've compute earlier "
   ]
  },
  {
   "cell_type": "code",
   "execution_count": 84,
   "id": "7e5e494f",
   "metadata": {},
   "outputs": [],
   "source": [
    "df_green_revenue = spark.read.parquet('data/report/revenue/green')\n",
    "df_yellow_revenue = spark.read.parquet('data/report/revenue/yellow')"
   ]
  },
  {
   "cell_type": "code",
   "execution_count": 85,
   "id": "4b62d873",
   "metadata": {},
   "outputs": [],
   "source": [
    "df_green_revenue_tmp = df_green_revenue \\\n",
    "    .withColumnRenamed('amount', 'green_amount') \\\n",
    "    .withColumnRenamed('number_of_records', 'green_number_records')\n",
    "\n",
    "df_yellow_revenue_tmp = df_yellow_revenue \\\n",
    "    .withColumnRenamed('amount', 'yellow_amount') \\\n",
    "    .withColumnRenamed('number_of_records', 'yellow_number_records')"
   ]
  },
  {
   "cell_type": "code",
   "execution_count": 86,
   "id": "8c253ebd",
   "metadata": {},
   "outputs": [],
   "source": [
    "df_join = df_green_revenue_tmp.join(df_yellow_revenue_tmp, on=['hour', 'zone'], how='outer')"
   ]
  },
  {
   "cell_type": "code",
   "execution_count": 88,
   "id": "981fd3d8",
   "metadata": {},
   "outputs": [
    {
     "name": "stderr",
     "output_type": "stream",
     "text": [
      "[Stage 76:>                                                         (0 + 8) / 9]\r"
     ]
    },
    {
     "name": "stdout",
     "output_type": "stream",
     "text": [
      "24/03/03 22:54:56 WARN MemoryManager: Total allocation exceeds 95.00% (1,020,054,720 bytes) of heap memory\n",
      "Scaling row group sizes to 95.00% for 8 writers\n"
     ]
    },
    {
     "name": "stderr",
     "output_type": "stream",
     "text": [
      "                                                                                \r"
     ]
    }
   ],
   "source": [
    "df_join.write.parquet('data/report/revenue/total', mode='overwrite')"
   ]
  },
  {
   "cell_type": "code",
   "execution_count": null,
   "id": "ac0dcb60",
   "metadata": {},
   "outputs": [],
   "source": []
  },
  {
   "cell_type": "code",
   "execution_count": null,
   "id": "7c657b6b",
   "metadata": {},
   "outputs": [],
   "source": []
  },
  {
   "cell_type": "code",
   "execution_count": null,
   "id": "2cb7a90b",
   "metadata": {},
   "outputs": [],
   "source": []
  },
  {
   "cell_type": "code",
   "execution_count": null,
   "id": "0be55d67",
   "metadata": {},
   "outputs": [],
   "source": []
  },
  {
   "cell_type": "code",
   "execution_count": null,
   "id": "2ddd4067",
   "metadata": {},
   "outputs": [],
   "source": []
  },
  {
   "cell_type": "code",
   "execution_count": null,
   "id": "ccbd6a03",
   "metadata": {},
   "outputs": [],
   "source": []
  },
  {
   "cell_type": "code",
   "execution_count": null,
   "id": "a43c6f18",
   "metadata": {},
   "outputs": [],
   "source": []
  },
  {
   "cell_type": "code",
   "execution_count": null,
   "id": "15269536",
   "metadata": {},
   "outputs": [],
   "source": []
  },
  {
   "cell_type": "code",
   "execution_count": null,
   "id": "7f5ee232",
   "metadata": {},
   "outputs": [],
   "source": []
  }
 ],
 "metadata": {
  "kernelspec": {
   "display_name": "Python 3 (ipykernel)",
   "language": "python",
   "name": "python3"
  },
  "language_info": {
   "codemirror_mode": {
    "name": "ipython",
    "version": 3
   },
   "file_extension": ".py",
   "mimetype": "text/x-python",
   "name": "python",
   "nbconvert_exporter": "python",
   "pygments_lexer": "ipython3",
   "version": "3.8.10"
  }
 },
 "nbformat": 4,
 "nbformat_minor": 5
}
